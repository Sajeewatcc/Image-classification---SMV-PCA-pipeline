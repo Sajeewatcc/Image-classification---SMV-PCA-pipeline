{
 "cells": [
  {
   "cell_type": "code",
   "execution_count": 2,
   "id": "8d059c73",
   "metadata": {},
   "outputs": [],
   "source": [
    "import pandas as pd\n",
    "import numpy as np\n",
    "import cv2\n",
    "import os"
   ]
  },
  {
   "cell_type": "code",
   "execution_count": 3,
   "id": "4f390fb2",
   "metadata": {},
   "outputs": [],
   "source": [
    "data_path=r'Celebrity Faces Dataset'"
   ]
  },
  {
   "cell_type": "code",
   "execution_count": 4,
   "id": "0dd45390",
   "metadata": {},
   "outputs": [
    {
     "name": "stdout",
     "output_type": "stream",
     "text": [
      "{'Angelina Jolie': 0, 'Brad Pitt': 1, 'Denzel Washington': 2, 'Hugh Jackman': 3, 'Jennifer Lawrence': 4, 'Johnny Depp': 5, 'Kate Winslet': 6, 'Leonardo DiCaprio': 7, 'Megan Fox': 8, 'Natalie Portman': 9, 'Nicole Kidman': 10, 'Robert Downey Jr': 11, 'Sandra Bullock': 12, 'Scarlett Johansson': 13, 'Tom Cruise': 14, 'Tom Hanks': 15, 'Will Smith': 16}\n"
     ]
    }
   ],
   "source": [
    "labels=os.listdir(data_path)\n",
    "categories=[i for i in range(len(labels))]\n",
    "\n",
    "dic = {}\n",
    "for i in range(0,len(labels)):\n",
    "    dic[labels[i]] = categories[i]\n",
    "print(dic)"
   ]
  },
  {
   "cell_type": "code",
   "execution_count": 5,
   "id": "c196cf60",
   "metadata": {},
   "outputs": [
    {
     "name": "stdout",
     "output_type": "stream",
     "text": [
      "{0: 'Angelina Jolie', 1: 'Brad Pitt', 2: 'Denzel Washington', 3: 'Hugh Jackman', 4: 'Jennifer Lawrence', 5: 'Johnny Depp', 6: 'Kate Winslet', 7: 'Leonardo DiCaprio', 8: 'Megan Fox', 9: 'Natalie Portman', 10: 'Nicole Kidman', 11: 'Robert Downey Jr', 12: 'Sandra Bullock', 13: 'Scarlett Johansson', 14: 'Tom Cruise', 15: 'Tom Hanks', 16: 'Will Smith'}\n"
     ]
    }
   ],
   "source": [
    "dic1 = {}\n",
    "for i in range(0,len(labels)):\n",
    "    dic1[categories[i]] = labels[i]\n",
    "print(dic1)"
   ]
  },
  {
   "cell_type": "code",
   "execution_count": null,
   "id": "211de5e6",
   "metadata": {},
   "outputs": [],
   "source": [
    "print(labels)"
   ]
  },
  {
   "cell_type": "code",
   "execution_count": null,
   "id": "d8b05c8b",
   "metadata": {},
   "outputs": [],
   "source": [
    "data=[]\n",
    "target=[]\n",
    "\n",
    "imagecas = cv2.CascadeClassifier(r\"haarcascade_frontalface_default.xml\")\n",
    "\n",
    "for label in labels:\n",
    "    category_path = os.path.join(data_path,label)\n",
    "    images = os.listdir(category_path)\n",
    "    \n",
    "    \n",
    "    for image in images:\n",
    "        image_path = os.path.join(category_path,image)\n",
    "        img=cv2.imread(image_path)\n",
    "        grey=cv2.cvtColor(img,cv2.COLOR_BGR2GRAY)\n",
    "        faces=imagecas.detectMultiScale(grey,1.3,5)\n",
    "        \n",
    "        try:\n",
    "            for (x,y,w,h) in  faces:\n",
    "                crop=grey[y:y+h,x:x+w]\n",
    "                print(crop.shape)\n",
    "                crop_final=cv2.resize(crop,(50,50))\n",
    "                data.append(crop_final)\n",
    "                target.append(dic[label])\n",
    "                \n",
    "                img=cv2.imshow(\"Actors\",crop_final)\n",
    "                k=cv2.waitKey(100)\n",
    "                if(k==27):\n",
    "                    break\n",
    "            else:\n",
    "                pass\n",
    "            \n",
    "        except:\n",
    "            pass\n",
    "            \n",
    "        \n",
    "cv2.destroyAllWindows()\n",
    "    \n",
    "        \n",
    "        #img=cv2.imshow(\"Actors\",grey)\n",
    "        #k=cv2.waitKey(100)\n",
    "        #if(k==27):\n",
    "            #break\n",
    "#cv2.destroyAllWindows()\n",
    "    "
   ]
  },
  {
   "cell_type": "code",
   "execution_count": null,
   "id": "8a50aadf",
   "metadata": {},
   "outputs": [],
   "source": [
    "data=np.array(data)\n",
    "print(data.shape)\n",
    "target=np.array(target)"
   ]
  },
  {
   "cell_type": "code",
   "execution_count": null,
   "id": "6fb8506c",
   "metadata": {},
   "outputs": [],
   "source": [
    "data=data.reshape(data.shape[0],data.shape[1]*data.shape[2])\n",
    "\n",
    "print(data.shape)\n",
    "print(target.shape)"
   ]
  },
  {
   "cell_type": "code",
   "execution_count": null,
   "id": "c54d8bd3",
   "metadata": {},
   "outputs": [],
   "source": [
    "np.save('data',data)\n",
    "np.save('target',target)"
   ]
  },
  {
   "cell_type": "code",
   "execution_count": null,
   "id": "351c7b21",
   "metadata": {},
   "outputs": [],
   "source": [
    "import collections\n",
    "\n",
    "print(collections.Counter(target))"
   ]
  },
  {
   "cell_type": "code",
   "execution_count": null,
   "id": "7c0eebaa",
   "metadata": {},
   "outputs": [],
   "source": []
  }
 ],
 "metadata": {
  "kernelspec": {
   "display_name": "Python 3 (ipykernel)",
   "language": "python",
   "name": "python3"
  },
  "language_info": {
   "codemirror_mode": {
    "name": "ipython",
    "version": 3
   },
   "file_extension": ".py",
   "mimetype": "text/x-python",
   "name": "python",
   "nbconvert_exporter": "python",
   "pygments_lexer": "ipython3",
   "version": "3.10.4"
  }
 },
 "nbformat": 4,
 "nbformat_minor": 5
}
