{
 "cells": [
  {
   "cell_type": "code",
   "execution_count": 113,
   "id": "161ed3a1",
   "metadata": {},
   "outputs": [],
   "source": [
    "import numpy as np\n",
    "import pandas as pd\n",
    "from sklearn.model_selection import train_test_split\n",
    "from sklearn.decomposition import PCA\n",
    "from sklearn.pipeline import make_pipeline\n",
    "from sklearn.svm import SVC\n",
    "from sklearn.metrics import classification_report,accuracy_score,confusion_matrix,ConfusionMatrixDisplay"
   ]
  },
  {
   "cell_type": "code",
   "execution_count": 114,
   "id": "6f820a73",
   "metadata": {},
   "outputs": [],
   "source": [
    "data=np.load('data.npy')\n",
    "target=np.load('target.npy')"
   ]
  },
  {
   "cell_type": "code",
   "execution_count": 121,
   "id": "90d06b20",
   "metadata": {},
   "outputs": [],
   "source": [
    "train_data,test_data,train_target,test_target =train_test_split(data,target,test_size=0.1)"
   ]
  },
  {
   "cell_type": "code",
   "execution_count": 139,
   "id": "dbcf5312",
   "metadata": {},
   "outputs": [],
   "source": [
    "pca = PCA(n_components=150,whiten=True)\n",
    "svm = SVC(kernel='rbf')\n",
    "\n",
    "model=make_pipeline(pca,svm)"
   ]
  },
  {
   "cell_type": "code",
   "execution_count": 140,
   "id": "1181c657",
   "metadata": {},
   "outputs": [],
   "source": [
    "?SVC"
   ]
  },
  {
   "cell_type": "code",
   "execution_count": 141,
   "id": "f20c9134",
   "metadata": {},
   "outputs": [
    {
     "data": {
      "text/html": [
       "<style>#sk-container-id-19 {color: black;background-color: white;}#sk-container-id-19 pre{padding: 0;}#sk-container-id-19 div.sk-toggleable {background-color: white;}#sk-container-id-19 label.sk-toggleable__label {cursor: pointer;display: block;width: 100%;margin-bottom: 0;padding: 0.3em;box-sizing: border-box;text-align: center;}#sk-container-id-19 label.sk-toggleable__label-arrow:before {content: \"▸\";float: left;margin-right: 0.25em;color: #696969;}#sk-container-id-19 label.sk-toggleable__label-arrow:hover:before {color: black;}#sk-container-id-19 div.sk-estimator:hover label.sk-toggleable__label-arrow:before {color: black;}#sk-container-id-19 div.sk-toggleable__content {max-height: 0;max-width: 0;overflow: hidden;text-align: left;background-color: #f0f8ff;}#sk-container-id-19 div.sk-toggleable__content pre {margin: 0.2em;color: black;border-radius: 0.25em;background-color: #f0f8ff;}#sk-container-id-19 input.sk-toggleable__control:checked~div.sk-toggleable__content {max-height: 200px;max-width: 100%;overflow: auto;}#sk-container-id-19 input.sk-toggleable__control:checked~label.sk-toggleable__label-arrow:before {content: \"▾\";}#sk-container-id-19 div.sk-estimator input.sk-toggleable__control:checked~label.sk-toggleable__label {background-color: #d4ebff;}#sk-container-id-19 div.sk-label input.sk-toggleable__control:checked~label.sk-toggleable__label {background-color: #d4ebff;}#sk-container-id-19 input.sk-hidden--visually {border: 0;clip: rect(1px 1px 1px 1px);clip: rect(1px, 1px, 1px, 1px);height: 1px;margin: -1px;overflow: hidden;padding: 0;position: absolute;width: 1px;}#sk-container-id-19 div.sk-estimator {font-family: monospace;background-color: #f0f8ff;border: 1px dotted black;border-radius: 0.25em;box-sizing: border-box;margin-bottom: 0.5em;}#sk-container-id-19 div.sk-estimator:hover {background-color: #d4ebff;}#sk-container-id-19 div.sk-parallel-item::after {content: \"\";width: 100%;border-bottom: 1px solid gray;flex-grow: 1;}#sk-container-id-19 div.sk-label:hover label.sk-toggleable__label {background-color: #d4ebff;}#sk-container-id-19 div.sk-serial::before {content: \"\";position: absolute;border-left: 1px solid gray;box-sizing: border-box;top: 0;bottom: 0;left: 50%;z-index: 0;}#sk-container-id-19 div.sk-serial {display: flex;flex-direction: column;align-items: center;background-color: white;padding-right: 0.2em;padding-left: 0.2em;position: relative;}#sk-container-id-19 div.sk-item {position: relative;z-index: 1;}#sk-container-id-19 div.sk-parallel {display: flex;align-items: stretch;justify-content: center;background-color: white;position: relative;}#sk-container-id-19 div.sk-item::before, #sk-container-id-19 div.sk-parallel-item::before {content: \"\";position: absolute;border-left: 1px solid gray;box-sizing: border-box;top: 0;bottom: 0;left: 50%;z-index: -1;}#sk-container-id-19 div.sk-parallel-item {display: flex;flex-direction: column;z-index: 1;position: relative;background-color: white;}#sk-container-id-19 div.sk-parallel-item:first-child::after {align-self: flex-end;width: 50%;}#sk-container-id-19 div.sk-parallel-item:last-child::after {align-self: flex-start;width: 50%;}#sk-container-id-19 div.sk-parallel-item:only-child::after {width: 0;}#sk-container-id-19 div.sk-dashed-wrapped {border: 1px dashed gray;margin: 0 0.4em 0.5em 0.4em;box-sizing: border-box;padding-bottom: 0.4em;background-color: white;}#sk-container-id-19 div.sk-label label {font-family: monospace;font-weight: bold;display: inline-block;line-height: 1.2em;}#sk-container-id-19 div.sk-label-container {text-align: center;}#sk-container-id-19 div.sk-container {/* jupyter's `normalize.less` sets `[hidden] { display: none; }` but bootstrap.min.css set `[hidden] { display: none !important; }` so we also need the `!important` here to be able to override the default hidden behavior on the sphinx rendered scikit-learn.org. See: https://github.com/scikit-learn/scikit-learn/issues/21755 */display: inline-block !important;position: relative;}#sk-container-id-19 div.sk-text-repr-fallback {display: none;}</style><div id=\"sk-container-id-19\" class=\"sk-top-container\"><div class=\"sk-text-repr-fallback\"><pre>Pipeline(steps=[(&#x27;pca&#x27;, PCA(n_components=150, whiten=True)), (&#x27;svc&#x27;, SVC())])</pre><b>In a Jupyter environment, please rerun this cell to show the HTML representation or trust the notebook. <br />On GitHub, the HTML representation is unable to render, please try loading this page with nbviewer.org.</b></div><div class=\"sk-container\" hidden><div class=\"sk-item sk-dashed-wrapped\"><div class=\"sk-label-container\"><div class=\"sk-label sk-toggleable\"><input class=\"sk-toggleable__control sk-hidden--visually\" id=\"sk-estimator-id-55\" type=\"checkbox\" ><label for=\"sk-estimator-id-55\" class=\"sk-toggleable__label sk-toggleable__label-arrow\">Pipeline</label><div class=\"sk-toggleable__content\"><pre>Pipeline(steps=[(&#x27;pca&#x27;, PCA(n_components=150, whiten=True)), (&#x27;svc&#x27;, SVC())])</pre></div></div></div><div class=\"sk-serial\"><div class=\"sk-item\"><div class=\"sk-estimator sk-toggleable\"><input class=\"sk-toggleable__control sk-hidden--visually\" id=\"sk-estimator-id-56\" type=\"checkbox\" ><label for=\"sk-estimator-id-56\" class=\"sk-toggleable__label sk-toggleable__label-arrow\">PCA</label><div class=\"sk-toggleable__content\"><pre>PCA(n_components=150, whiten=True)</pre></div></div></div><div class=\"sk-item\"><div class=\"sk-estimator sk-toggleable\"><input class=\"sk-toggleable__control sk-hidden--visually\" id=\"sk-estimator-id-57\" type=\"checkbox\" ><label for=\"sk-estimator-id-57\" class=\"sk-toggleable__label sk-toggleable__label-arrow\">SVC</label><div class=\"sk-toggleable__content\"><pre>SVC()</pre></div></div></div></div></div></div></div>"
      ],
      "text/plain": [
       "Pipeline(steps=[('pca', PCA(n_components=150, whiten=True)), ('svc', SVC())])"
      ]
     },
     "execution_count": 141,
     "metadata": {},
     "output_type": "execute_result"
    }
   ],
   "source": [
    "model.fit(train_data,train_target)"
   ]
  },
  {
   "cell_type": "code",
   "execution_count": 142,
   "id": "9504b233",
   "metadata": {},
   "outputs": [
    {
     "name": "stdout",
     "output_type": "stream",
     "text": [
      "[ 4 13  5 13 13  8 13  4 13  4  1  3  7  5 11 13  4 13 15  1 10 13  8  8\n",
      "  0  8  5 13  0 11 13 13  3 16 13  4  3  8  9 15 12 13  2  1 13 11 13  6\n",
      " 15 13  2  0 11 14 15  0  1 13 13  2  5  7  5 12 14  6  5 11 11 12  4 10\n",
      "  6 13  1  4  5  0  7  8 11 16 13 15 10  7 14 14  6  7 13 13  7 14 13  8\n",
      "  5  3  2  5  3  5  8 13  8  2  4  8 15 10  3  2 13 15  7  3  2  4  2  4\n",
      " 10 11  7 11 13  0 13  5  7  3 11 15 12 16 10  9 15 13  2 16 13 11 11  4\n",
      " 14 13  1 14 13  8 11 13  9 11 13  9 15 11  4 13 15 13  3 13  7 16 13  7\n",
      " 11 13  1  6  7  8 11 13 13  7 12  8 13 13 13 12  3 16  8  1  7  2  7 13\n",
      " 11  1  2 13 14  4  2 16 13 11 13 12 11  4  1  9 13 13  5 12  2 11  4  4\n",
      " 12  5  0  3 15  0  5 11  3  9  8  7  5  2 13  3  0 11  7 11 10 14  2 13\n",
      "  8 12  3  2  5 13  0 12 10 15  1 12  7 13 11 13 14 16 13  3  4 13  9 13\n",
      "  0  6 13  0  5  6  6 16  6  3 13  9  5  8 11  7 10 13  6  6 10 13 13 13\n",
      "  9  4  8 13 12  5  9  8  4  6 13  0  1 12  1  5  3  8  4 14 10  6 13  9\n",
      " 16  7 15  6 13  0  7 13  1  3  1  9 10  0 14 12 13  9  0  0  1 11  5  9\n",
      "  5  9  6 13  4  2]\n"
     ]
    }
   ],
   "source": [
    "predicted_target=model.predict(test_data)\n",
    "print(predicted_target)"
   ]
  },
  {
   "cell_type": "code",
   "execution_count": 143,
   "id": "5f947306",
   "metadata": {},
   "outputs": [
    {
     "name": "stdout",
     "output_type": "stream",
     "text": [
      "[ 6  9  5 13 13  8 13  4 13  4 15  3  7  4 14  4  4 12 15  1 10  7  8  5\n",
      "  0  8  4 13  9  5  3 10  3 16 13  6 14  8 14 15 12 14  2  5 13  9 15 15\n",
      " 15 13  2  0  4 14 15  0  1 13  2  2  4  7 14 12 14  6 12  3  5 12  7  6\n",
      "  6 13  1  4  5  0  7  1 13  7 13 15 10  1 14 14  6  7 13  3  3 14  3  8\n",
      "  9  3  2 11 14  2  8 13  8  2  4 15 15 10  3  2  4 14  7  3 16 10  2 12\n",
      " 10  3  7  2  6  0 13  6  7 15 13  9 12 16 10  9 15 13  2  1 13 11 11  4\n",
      " 14  0  1 14 13  0  1 11  8 11 11  9  4 11  4 13 11  9  3 13  7 16 15  7\n",
      " 11 13  3  6  7 13 16 13 13  7 12  8  6 13 13 12 11  2  8  1  7 15  7 10\n",
      " 16  1  2 13 14 10  2  6  0 16 13 12 14  6  7  9  8  8  5 12  2 12 10  0\n",
      " 12 16  2  3  9  8  5  2  3  9  8 10  2  2 13  2 10  0  7 11 10 14  2 10\n",
      "  8 12  3  2  1 13  0 12 10 11 11 12  7 13  2 13 14  3 13  3  4 13  5  8\n",
      "  7  6 13  0 11 10  6  6  6  3  5  9  5  8 11  7 10 13 10  6 10 13 13 13\n",
      "  0 16 11  0 12  5  5  8  4  6 13  0  1 12  1  5  3  8 12 14 10 14 13  9\n",
      " 16  7 15  4 13 16  7  0  1  3  5  9 10 13 14 12 13  0 16  6  1 11  8  9\n",
      "  5  5  6 13  4  2]\n"
     ]
    }
   ],
   "source": [
    "print(test_target)"
   ]
  },
  {
   "cell_type": "code",
   "execution_count": 144,
   "id": "cbeada92",
   "metadata": {},
   "outputs": [
    {
     "name": "stdout",
     "output_type": "stream",
     "text": [
      "0.6257309941520468\n"
     ]
    }
   ],
   "source": [
    "accuracy = accuracy_score(test_target,predicted_target)\n",
    "print(accuracy)"
   ]
  },
  {
   "cell_type": "code",
   "execution_count": 111,
   "id": "1ff89759",
   "metadata": {},
   "outputs": [
    {
     "name": "stdout",
     "output_type": "stream",
     "text": [
      "[[ 2  1  0  0  0  0  0  0  2  0  0  0  0  2  0  0  0]\n",
      " [ 0  9  0  0  0  1  1  0  0  0  0  0  0  0  0  0  0]\n",
      " [ 0  0  1  1  1  0  0  0  0  0  0  0  0  0  0  0  1]\n",
      " [ 0  0  0  4  0  1  0  0  0  0  1  0  0  0  0  0  0]\n",
      " [ 1  0  0  0  5  0  0  0  0  0  0  0  0  1  0  0  0]\n",
      " [ 0  0  1  0  1  2  1  0  0  0  0  0  0  2  0  0  1]\n",
      " [ 0  0  0  0  2  0  2  0  0  0  1  0  0  0  0  0  0]\n",
      " [ 0  0  1  0  0  0  0 11  1  0  0  1  0  0  0  0  1]\n",
      " [ 2  0  0  0  1  1  1  0  8  2  1  2  2  0  0  0  0]\n",
      " [ 0  0  0  0  2  0  0  0  0  9  1  0  0  2  0  0  0]\n",
      " [ 0  0  0  0  1  0  1  0  0  1  6  0  0  0  0  0  0]\n",
      " [ 0  0  0  0  0  1  0  0  0  0  0  4  0  2  0  0  0]\n",
      " [ 0  0  0  0  1  1  0  0  0  1  0  0  8  2  0  0  0]\n",
      " [ 0  0  0  0  2  0  1  0  0  1  0  0  0 12  0  0  0]\n",
      " [ 0  1  0  0  0  0  0  0  0  0  0  1  0  0 11  0  0]\n",
      " [ 0  0  0  0  1  0  0  0  0  0  0  0  0  0  0  6  0]\n",
      " [ 0  0  0  2  1  1  0  0  0  0  0  1  0  1  0  1  2]]\n"
     ]
    }
   ],
   "source": [
    "matrix=confusion_matrix(test_target,predicted_target)\n",
    "print(matrix)"
   ]
  },
  {
   "cell_type": "code",
   "execution_count": 112,
   "id": "12082b59",
   "metadata": {},
   "outputs": [
    {
     "data": {
      "text/plain": [
       "<sklearn.metrics._plot.confusion_matrix.ConfusionMatrixDisplay at 0x1cb105ecd60>"
      ]
     },
     "execution_count": 112,
     "metadata": {},
     "output_type": "execute_result"
    },
    {
     "data": {
      "image/png": "[encoded data removed]",
      "text/plain": [
       "<Figure size 432x288 with 2 Axes>"
      ]
     },
     "metadata": {
      "needs_background": "light"
     },
     "output_type": "display_data"
    }
   ],
   "source": [
    "import matplotlib.pyplot as plt\n",
    "\n",
    "confusion_matrix_display=ConfusionMatrixDisplay(confusion_matrix=matrix,display_labels=['Angelina Jolie', 'Brad Pitt', 'Denzel Washington', 'Hugh Jackman', 'Jennifer Lawrence', 'Johnny Depp', 'Kate Winslet', 'Leonardo DiCaprio', 'Megan Fox', 'Natalie Portman', 'Nicole Kidman', 'Robert Downey Jr', 'Sandra Bullock', 'Scarlett Johansson', 'Tom Cruise', 'Tom Hanks', 'Will Smith'])\n",
    "confusion_matrix_display.plot()"
   ]
  },
  {
   "cell_type": "code",
   "execution_count": null,
   "id": "56b4b1f9",
   "metadata": {},
   "outputs": [],
   "source": [
    "import joblib\n",
    "\n",
    "joblib.dump(model,'SVM-Face Recognition avengers.sav')"
   ]
  },
  {
   "cell_type": "code",
   "execution_count": null,
   "id": "6eebe540",
   "metadata": {},
   "outputs": [],
   "source": []
  }
 ],
 "metadata": {
  "kernelspec": {
   "display_name": "Python 3 (ipykernel)",
   "language": "python",
   "name": "python3"
  },
  "language_info": {
   "codemirror_mode": {
    "name": "ipython",
    "version": 3
   },
   "file_extension": ".py",
   "mimetype": "text/x-python",
   "name": "python",
   "nbconvert_exporter": "python",
   "pygments_lexer": "ipython3",
   "version": "3.10.4"
  }
 },
 "nbformat": 4,
 "nbformat_minor": 5
}
